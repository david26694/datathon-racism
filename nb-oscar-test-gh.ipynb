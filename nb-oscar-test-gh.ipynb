{
 "cells": [
  {
   "cell_type": "code",
   "execution_count": 1,
   "id": "9781f2dc",
   "metadata": {
    "execution": {
     "iopub.execute_input": "2022-03-29T15:22:38.132500Z",
     "iopub.status.busy": "2022-03-29T15:22:38.131242Z",
     "iopub.status.idle": "2022-03-29T15:22:59.155954Z",
     "shell.execute_reply": "2022-03-29T15:22:59.154962Z",
     "shell.execute_reply.started": "2022-03-29T15:20:04.463457Z"
    },
    "papermill": {
     "duration": 21.033876,
     "end_time": "2022-03-29T15:22:59.156199",
     "exception": false,
     "start_time": "2022-03-29T15:22:38.122323",
     "status": "completed"
    },
    "tags": []
   },
   "outputs": [
    {
     "name": "stdout",
     "output_type": "stream",
     "text": [
      "Cloning into 'datathon-racism'...\r\n",
      "fatal: unable to access 'https://github.com/david26694/datathon-racism.git/': Could not resolve host: github.com\r\n"
     ]
    }
   ],
   "source": [
    "!git clone https://github.com/david26694/datathon-racism.git"
   ]
  },
  {
   "cell_type": "code",
   "execution_count": 2,
   "id": "ff552538",
   "metadata": {
    "execution": {
     "iopub.execute_input": "2022-03-29T15:22:59.177295Z",
     "iopub.status.busy": "2022-03-29T15:22:59.175499Z",
     "iopub.status.idle": "2022-03-29T15:22:59.180622Z",
     "shell.execute_reply": "2022-03-29T15:22:59.181168Z",
     "shell.execute_reply.started": "2022-03-29T15:21:48.312278Z"
    },
    "papermill": {
     "duration": 0.018781,
     "end_time": "2022-03-29T15:22:59.181347",
     "exception": false,
     "start_time": "2022-03-29T15:22:59.162566",
     "status": "completed"
    },
    "tags": []
   },
   "outputs": [
    {
     "name": "stdout",
     "output_type": "stream",
     "text": [
      "caca\n"
     ]
    }
   ],
   "source": [
    "print(\"caca\")"
   ]
  },
  {
   "cell_type": "code",
   "execution_count": null,
   "id": "e012414f",
   "metadata": {
    "papermill": {
     "duration": 0.006106,
     "end_time": "2022-03-29T15:22:59.193211",
     "exception": false,
     "start_time": "2022-03-29T15:22:59.187105",
     "status": "completed"
    },
    "tags": []
   },
   "outputs": [],
   "source": []
  }
 ],
 "metadata": {
  "kernelspec": {
   "display_name": "Python 3",
   "language": "python",
   "name": "python3"
  },
  "language_info": {
   "codemirror_mode": {
    "name": "ipython",
    "version": 3
   },
   "file_extension": ".py",
   "mimetype": "text/x-python",
   "name": "python",
   "nbconvert_exporter": "python",
   "pygments_lexer": "ipython3",
   "version": "3.7.12"
  },
  "papermill": {
   "default_parameters": {},
   "duration": 33.185174,
   "end_time": "2022-03-29T15:22:59.911354",
   "environment_variables": {},
   "exception": null,
   "input_path": "__notebook__.ipynb",
   "output_path": "__notebook__.ipynb",
   "parameters": {},
   "start_time": "2022-03-29T15:22:26.726180",
   "version": "2.3.3"
  }
 },
 "nbformat": 4,
 "nbformat_minor": 5
}
